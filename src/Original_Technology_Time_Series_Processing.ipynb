{
 "cells": [
  {
   "cell_type": "code",
   "execution_count": 1,
   "metadata": {
    "collapsed": true
   },
   "outputs": [],
   "source": [
    "import pandas as pd\n",
    "data_directory = '../data/'"
   ]
  },
  {
   "cell_type": "code",
   "execution_count": 2,
   "metadata": {
    "collapsed": false
   },
   "outputs": [],
   "source": [
    "time_series_metadata = pd.DataFrame(columns=['Units', 'Source'])\n",
    "time_series_metadata.index.name='Name'"
   ]
  },
  {
   "cell_type": "code",
   "execution_count": 3,
   "metadata": {
    "collapsed": true
   },
   "outputs": [],
   "source": [
    "df = pd.read_csv(data_directory+'original/Farmer_Lafond_Data.csv', index_col=0)\n",
    "\n",
    "for col in df.columns:\n",
    "    time_series_metadata.ix[col, 'Units'] = df[col].iloc[0]\n",
    "    time_series_metadata.ix[col, 'Source'] = 'Farmer_Lafond'\n",
    "\n",
    "df = df.iloc[2:]\n",
    "\n",
    "for col in df.columns:\n",
    "    time_series_metadata.ix[col, 'n'] = df[col].notnull().sum()\n",
    "    time_series_metadata.ix[col, 'Start'] = df[col].dropna().index[0]\n",
    "    time_series_metadata.ix[col, 'Stop'] = df[col].dropna().index[-1]    "
   ]
  },
  {
   "cell_type": "code",
   "execution_count": 4,
   "metadata": {
    "collapsed": true
   },
   "outputs": [],
   "source": [
    "time_series = df.copy()"
   ]
  },
  {
   "cell_type": "code",
   "execution_count": 6,
   "metadata": {
    "collapsed": false
   },
   "outputs": [],
   "source": [
    "from os import listdir\n",
    "from numpy import sort\n",
    "files = sort(listdir(data_directory+'original/Benson_Magee_Data/'))"
   ]
  },
  {
   "cell_type": "code",
   "execution_count": 7,
   "metadata": {
    "collapsed": false
   },
   "outputs": [],
   "source": [
    "for f in files[::-1]:\n",
    "    if f.endswith('.xlsx') and 'combo' not in f:\n",
    "        df = pd.read_excel(data_directory+'original/Benson_Magee_Data/'+f,sheetname='rawdata',index_col=0)\n",
    "        col = f.split('_v1')[0]\n",
    "        time_series_metadata.ix[col, 'Units'] = df.columns[0]\n",
    "        time_series_metadata.ix[col, 'Source'] = 'Benson_Magee'\n",
    "        time_series_metadata.ix[col, 'n'] = df.dropna().shape[0]\n",
    "        time_series_metadata.ix[col, 'Start'] = df.dropna().index[0]\n",
    "        time_series_metadata.ix[col, 'Stop'] = df.dropna().index[-1]\n",
    "        df.rename(columns={df.columns[0]:col}, inplace=True)\n",
    "        df.index = df.index.astype('float')\n",
    "        df = 1/df\n",
    "        df = df.groupby(level=0).min()\n",
    "        time_series = time_series.join(df, how='outer')"
   ]
  },
  {
   "cell_type": "code",
   "execution_count": 8,
   "metadata": {
    "collapsed": true
   },
   "outputs": [],
   "source": [
    "time_series = time_series.astype('float')"
   ]
  },
  {
   "cell_type": "code",
   "execution_count": null,
   "metadata": {
    "collapsed": true
   },
   "outputs": [],
   "source": [
    "time_series.to_csv(data_directory+'time_series.csv')\n",
    "time_series_metadata.to_csv(data_directory+'time_series_metadata.csv')"
   ]
  },
  {
   "cell_type": "code",
   "execution_count": null,
   "metadata": {
    "collapsed": false
   },
   "outputs": [
    {
     "name": "stderr",
     "output_type": "stream",
     "text": [
      "WARNING: pylab import has clobbered these variables: ['f']\n",
      "`%matplotlib` prevents importing * from pylab and numpy\n",
      "/home/jeffrey_alstott/anaconda3/lib/python3.4/site-packages/matplotlib/pyplot.py:516: RuntimeWarning: More than 20 figures have been opened. Figures created through the pyplot interface (`matplotlib.pyplot.figure`) are retained until explicitly closed and may consume too much memory. (To control this warning, see the rcParam `figure.max_open_warning`).\n",
      "  max_open_warning, RuntimeWarning)\n"
     ]
    }
   ],
   "source": [
    "%pylab inline\n",
    "\n",
    "for c in time_series.columns:\n",
    "    figure()\n",
    "    time_series[c].dropna().plot(legend=False)\n",
    "    yscale('log')\n",
    "    title(c)"
   ]
  },
  {
   "cell_type": "code",
   "execution_count": null,
   "metadata": {
    "collapsed": false,
    "scrolled": true
   },
   "outputs": [],
   "source": [
    "time_series_metadata[time_series_metadata['Source']=='Farmer_Lafond'].shape"
   ]
  },
  {
   "cell_type": "code",
   "execution_count": null,
   "metadata": {
    "collapsed": false
   },
   "outputs": [],
   "source": [
    "time_series_metadata[time_series_metadata['Source']=='Benson_Magee'].shape"
   ]
  }
 ],
 "metadata": {
  "kernelspec": {
   "display_name": "Python 3",
   "language": "python",
   "name": "python3"
  }
 },
 "nbformat": 4,
 "nbformat_minor": 0
}
