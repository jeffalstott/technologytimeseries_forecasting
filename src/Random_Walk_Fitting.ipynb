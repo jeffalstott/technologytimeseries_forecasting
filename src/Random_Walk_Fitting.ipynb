{
 "cells": [
  {
   "cell_type": "code",
   "execution_count": 1,
   "metadata": {
    "collapsed": false
   },
   "outputs": [
    {
     "name": "stdout",
     "output_type": "stream",
     "text": [
      "Populating the interactive namespace from numpy and matplotlib\n"
     ]
    }
   ],
   "source": [
    "import pandas as pd\n",
    "import seaborn as sns\n",
    "import pystan\n",
    "%pylab inline"
   ]
  },
  {
   "cell_type": "code",
   "execution_count": 2,
   "metadata": {
    "collapsed": true
   },
   "outputs": [],
   "source": [
    "data_directory = '../data/'"
   ]
  },
  {
   "cell_type": "code",
   "execution_count": 26,
   "metadata": {
    "collapsed": false
   },
   "outputs": [],
   "source": [
    "time_series = pd.read_csv(data_directory+'time_series.csv', index_col=0)\n",
    "time_series_metadata = pd.read_csv(data_directory+'time_series_metadata.csv', index_col=0)"
   ]
  },
  {
   "cell_type": "code",
   "execution_count": 61,
   "metadata": {
    "collapsed": true
   },
   "outputs": [],
   "source": [
    "arma_model_code = \"\"\"\n",
    "data { \n",
    "int<lower=1> T; \n",
    "real y[T];\n",
    "}\n",
    "\n",
    "parameters { \n",
    "real mu; \n",
    "//real phi;\n",
    "real<lower=-1,upper=1> theta; \n",
    "real<lower=0> sigma; \n",
    "} \n",
    "\n",
    "transformed parameters{\n",
    "real K;\n",
    "K <- sqrt( (1+theta^2) * sigma^2 );\n",
    "}\n",
    "\n",
    "model {\n",
    "real err; \n",
    "mu ~ normal(0,1); \n",
    "theta ~ normal(0,1); //uniform(-1,1); //normal(0,2); \n",
    "sigma ~ student_t(4, 0, 2); //cauchy(0,5); \n",
    "err <- y[1] - 2*mu; //phi = 1\n",
    "err ~ normal(0,sigma); \n",
    "for (t in 2:T){ \n",
    "    err <- y[t] - (mu + y[t-1] + theta * err); \n",
    "    err ~ normal(0,sigma);\n",
    "    }\n",
    "}\n",
    "\"\"\"\n",
    "\n",
    "# model {\n",
    "# vector[T] nu; // prediction for time t\n",
    "# vector[T] err; // error for time t\n",
    " \n",
    "# nu[1] <- mu + mu; // assume err[0] == 0 \n",
    "# err[1] <- y[1] - nu[1]; \n",
    "# for (t in 2:T) { \n",
    "#     nu[t] <- mu +  y[t-1] + theta * err[t-1]; \n",
    "#     err[t] <- y[t] - nu[t];\n",
    "#     } \n",
    "\n",
    "# mu ~ normal(0,10); // priors\n",
    "# phi ~ normal(0,2); \n",
    "# theta ~ normal(0,2); \n",
    "# sigma ~ cauchy(0,5); \n",
    "# err ~ normal(0,sigma); // likelihood\n",
    "# }\n",
    "# \"\"\""
   ]
  },
  {
   "cell_type": "code",
   "execution_count": 62,
   "metadata": {
    "collapsed": false
   },
   "outputs": [],
   "source": [
    "arma_model = pystan.StanModel(model_code=arma_model_code)"
   ]
  },
  {
   "cell_type": "code",
   "execution_count": 63,
   "metadata": {
    "collapsed": false
   },
   "outputs": [
    {
     "name": "stdout",
     "output_type": "stream",
     "text": [
      "AcrylicFiber\n",
      "Acrylonitrile\n",
      "Aluminum\n",
      "Ammonia\n",
      "Aniline\n",
      "Automotive (US)\n",
      "Beer (Japan)\n",
      "Benzene\n",
      "BisphenolA\n",
      "Caprolactam\n",
      "CarbonBlack\n",
      "CarbonDisulfide\n",
      "CCGT Power\n",
      "Concentrating Solar\n",
      "Corn (US)\n",
      "Crude Oil\n",
      "Cyclohexane\n",
      "DNA Sequencing\n",
      "DRAM\n",
      "Electric Range\n",
      "Ethanol (Brazil)\n",
      "Ethanolamine\n",
      "Ethylene\n",
      "Formaldehyde\n",
      "Free Standing Gas Range\n",
      "Geothermal Electricity\n",
      "Hard Disk Drive\n",
      "HydrofluoricAcid\n",
      "IsopropylAlcohol\n",
      "Laser Diode\n",
      "Low Density Polyethylene\n",
      "Magnesium\n",
      "MaleicAnhydride\n",
      "Methanol\n",
      "Milk (US)\n",
      "Monochrome Television\n",
      "Motor Gasoline\n",
      "NeopreneRubber\n",
      "Nuclear Electricity\n",
      "Onshore Gas Pipeline\n",
      "Paraxylene\n",
      "Pentaerythritol\n",
      "Phenol\n",
      "Photovoltaics\n",
      "PhthalicAnhydride\n",
      "PolyesterFiber\n",
      "PolyethyleneHD\n",
      "PolyethyleneLD\n",
      "Polypropylene\n",
      "Polystyrene\n",
      "Polyvinylchloride\n",
      "Primary Aluminum\n",
      "Primary Magnesium\n",
      "Refined Cane Sugar\n",
      "Sodium\n",
      "SodiumChlorate\n",
      "SodiumHydrosulfite\n",
      "Sorbitol\n",
      "Styrene\n",
      "Titanium Sponge\n",
      "Titanium Dioxide\n",
      "Transistor\n",
      "Urea\n",
      "VinylAcetate\n",
      "VinylChloride\n",
      "Wind Turbine (Denmark)\n"
     ]
    }
   ],
   "source": [
    "random_walk_parameters = pd.DataFrame(columns=['mu', 'K', 'theta', 'sigma'], dtype='float')\n",
    "\n",
    "for col in time_series.columns:\n",
    "    if time_series_metadata.ix[col,'Source']!='Farmer_Lafond':\n",
    "        continue\n",
    "    print(col)\n",
    "    d = time_series[col].dropna().values.astype('float')\n",
    "    data = {'y':log(d),\n",
    "       'T':len(d)}\n",
    "    fit = arma_model.sampling(data=data)\n",
    "    random_walk_parameters.ix[col, 'mu'] = fit['mu'].mean()\n",
    "    random_walk_parameters.ix[col, 'K'] = fit['K'].mean()\n",
    "    random_walk_parameters.ix[col, 'theta'] = fit['theta'].mean()\n",
    "    random_walk_parameters.ix[col, 'sigma'] = fit['sigma'].mean()\n",
    "# random_walk_parameters = random_walk_parameters.astype('float')"
   ]
  },
  {
   "cell_type": "code",
   "execution_count": 64,
   "metadata": {
    "collapsed": false
   },
   "outputs": [
    {
     "data": {
      "text/plain": [
       "<matplotlib.text.Text at 0x2af8a5c631d0>"
      ]
     },
     "execution_count": 64,
     "metadata": {},
     "output_type": "execute_result"
    },
    {
     "data": {
      "image/png": "[encoded data removed]",
      "text/plain": [
       "<matplotlib.figure.Figure at 0x2af8a3b6d358>"
      ]
     },
     "metadata": {},
     "output_type": "display_data"
    },
    {
     "data": {
      "image/png": "[encoded data removed]",
      "text/plain": [
       "<matplotlib.figure.Figure at 0x2af8a367acc0>"
      ]
     },
     "metadata": {},
     "output_type": "display_data"
    },
    {
     "data": {
      "image/png": "[encoded data removed]",
      "text/plain": [
       "<matplotlib.figure.Figure at 0x2af89193a898>"
      ]
     },
     "metadata": {},
     "output_type": "display_data"
    },
    {
     "data": {
      "image/png": "[encoded data removed]",
      "text/plain": [
       "<matplotlib.figure.Figure at 0x2af8a3d46208>"
      ]
     },
     "metadata": {},
     "output_type": "display_data"
    }
   ],
   "source": [
    "random_walk_parameters['mu'].hist(bins=50)\n",
    "plot((0,0), ylim(), 'k--')\n",
    "title(\"Mu\")\n",
    "figure()\n",
    "random_walk_parameters['K'].hist(bins=50)\n",
    "title(\"K\")\n",
    "figure()\n",
    "random_walk_parameters['sigma'].hist(bins=50)\n",
    "title(\"sigma\")\n",
    "figure()\n",
    "random_walk_parameters['theta'].hist(bins=50)\n",
    "title(\"theta\")"
   ]
  },
  {
   "cell_type": "code",
   "execution_count": 65,
   "metadata": {
    "collapsed": false
   },
   "outputs": [],
   "source": [
    "random_walk_log_parameters = log(random_walk_parameters)"
   ]
  },
  {
   "cell_type": "code",
   "execution_count": 66,
   "metadata": {
    "collapsed": false
   },
   "outputs": [
    {
     "data": {
      "text/plain": [
       "<matplotlib.axes._subplots.AxesSubplot at 0x2af8a3e8fb70>"
      ]
     },
     "execution_count": 66,
     "metadata": {},
     "output_type": "execute_result"
    },
    {
     "data": {
      "image/png": "[encoded data removed]",
      "text/plain": [
       "<matplotlib.figure.Figure at 0x2af893eb0d68>"
      ]
     },
     "metadata": {},
     "output_type": "display_data"
    },
    {
     "data": {
      "text/plain": [
       "<matplotlib.figure.Figure at 0x2af8a3d77160>"
      ]
     },
     "metadata": {},
     "output_type": "display_data"
    },
    {
     "data": {
      "image/png": "[encoded data removed]",
      "text/plain": [
       "<matplotlib.figure.Figure at 0x2af8a3ea3f98>"
      ]
     },
     "metadata": {},
     "output_type": "display_data"
    }
   ],
   "source": [
    "random_walk_parameters.plot('mu', 'sigma', kind='scatter')\n",
    "figure()\n",
    "random_walk_log_parameters.plot('mu', 'sigma', kind='scatter')"
   ]
  },
  {
   "cell_type": "code",
   "execution_count": 67,
   "metadata": {
    "collapsed": false
   },
   "outputs": [
    {
     "data": {
      "text/plain": [
       "<matplotlib.axes._subplots.AxesSubplot at 0x2af8a43f4438>"
      ]
     },
     "execution_count": 67,
     "metadata": {},
     "output_type": "execute_result"
    },
    {
     "data": {
      "image/png": "[encoded data removed]",
      "text/plain": [
       "<matplotlib.figure.Figure at 0x2af891b12ac8>"
      ]
     },
     "metadata": {},
     "output_type": "display_data"
    },
    {
     "data": {
      "text/plain": [
       "<matplotlib.figure.Figure at 0x2af8a3ec5fd0>"
      ]
     },
     "metadata": {},
     "output_type": "display_data"
    },
    {
     "data": {
      "image/png": "[encoded data removed]",
      "text/plain": [
       "<matplotlib.figure.Figure at 0x2af8a43f2e80>"
      ]
     },
     "metadata": {},
     "output_type": "display_data"
    }
   ],
   "source": [
    "random_walk_parameters.plot('mu', 'K', kind='scatter')\n",
    "figure()\n",
    "random_walk_log_parameters.plot('mu', 'K', kind='scatter')"
   ]
  },
  {
   "cell_type": "code",
   "execution_count": 33,
   "metadata": {
    "collapsed": false
   },
   "outputs": [
    {
     "data": {
      "text/plain": [
       "LinregressResult(slope=1.6321206783660303, intercept=0.32010735426459691, rvalue=0.91392666902582853, pvalue=9.3833664997008845e-27, stderr=0.090604106468375606)"
      ]
     },
     "execution_count": 33,
     "metadata": {},
     "output_type": "execute_result"
    }
   ],
   "source": [
    "from scipy.stats import linregress\n",
    "linregress(random_walk_parameters['mu'], random_walk_parameters['K'])"
   ]
  }
 ],
 "metadata": {
  "kernelspec": {
   "display_name": "Python 3",
   "language": "python",
   "name": "python3"
  },
  "language_info": {
   "codemirror_mode": {
    "name": "ipython",
    "version": 3
   },
   "file_extension": ".py",
   "mimetype": "text/x-python",
   "name": "python",
   "nbconvert_exporter": "python",
   "pygments_lexer": "ipython3",
   "version": "3.4.3"
  }
 },
 "nbformat": 4,
 "nbformat_minor": 0
}
