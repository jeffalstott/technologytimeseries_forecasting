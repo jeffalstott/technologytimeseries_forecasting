{
 "cells": [
  {
   "cell_type": "code",
   "execution_count": null,
   "metadata": {
    "collapsed": true
   },
   "outputs": [],
   "source": [
    "from os import path\n",
    "import sys\n",
    "python_location = path.dirname(sys.executable)+'/python'\n",
    "basic_program = open('Model_Time_Series.py', 'r').read()"
   ]
  },
  {
   "cell_type": "code",
   "execution_count": null,
   "metadata": {
    "collapsed": true
   },
   "outputs": [],
   "source": [
    "from os import system\n",
    "\n",
    "target_predictors = [\n",
    "                    'Citations_Backward_N', \n",
    "                    'Citations_Backward_Age_Mean', 'Citations_Backward_Age_STD', \n",
    "                    'meanSPNPcited_1year_before', 'stdSPNPcited_1year_before',\n",
    "                    'N_Patents',\n",
    "                    ]\n",
    "\n",
    "data_types = ['Performance']#, 'Price']\n",
    "model_type = 'VAR_separate'\n",
    "\n",
    "for data_type in data_types:\n",
    "    for target_predictor in target_predictors:\n",
    "        header = \"\"\"#!{3}\n",
    "#PBS -l nodes=1:ppn=4\n",
    "#PBS -l walltime=20:00:00\n",
    "#PBS -l mem=10000m\n",
    "#PBS -N {0}_{1}_{2}\n",
    "\n",
    "data_type = '{0}'\n",
    "target_predictor = '{1}'\n",
    "model_type = '{2}'\n",
    "    \"\"\".format(data_type, target_predictor, model_type, python_location)\n",
    "\n",
    "        options = \"\"\"\"\"\".format()\n",
    "\n",
    "        this_program = header+options+basic_program\n",
    "\n",
    "        this_job_file = 'jobfiles/run_{0}_{1}_{2}.py'.format(model_type, data_type, target_predictor)\n",
    "\n",
    "\n",
    "        f = open(this_job_file, 'w')\n",
    "        f.write(this_program)\n",
    "        f.close()\n",
    "\n",
    "        system('qsub '+this_job_file)"
   ]
  }
 ],
 "metadata": {
  "kernelspec": {
   "display_name": "Python [conda root]",
   "language": "python",
   "name": "conda-root-py"
  },
  "language_info": {
   "codemirror_mode": {
    "name": "ipython",
    "version": 3
   },
   "file_extension": ".py",
   "mimetype": "text/x-python",
   "name": "python",
   "nbconvert_exporter": "python",
   "pygments_lexer": "ipython3",
   "version": "3.5.3"
  }
 },
 "nbformat": 4,
 "nbformat_minor": 2
}
